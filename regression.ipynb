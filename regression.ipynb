{
 "cells": [
  {
   "cell_type": "code",
   "execution_count": 1,
   "id": "069fec0d-b028-4ac0-9bb2-116b9a6a0459",
   "metadata": {},
   "outputs": [],
   "source": [
    "import numpy as np"
   ]
  },
  {
   "cell_type": "code",
   "execution_count": 2,
   "id": "4e8967ff-78e7-4314-bb6d-0b2fd7e966c0",
   "metadata": {},
   "outputs": [],
   "source": [
    "import pandas as pd"
   ]
  },
  {
   "cell_type": "code",
   "execution_count": 3,
   "id": "52a1c0ba-20dc-437b-8696-a9db437c66ed",
   "metadata": {},
   "outputs": [],
   "source": [
    "import matplotlib.pyplot as plt"
   ]
  },
  {
   "cell_type": "code",
   "execution_count": 4,
   "id": "8515b8f2-0c7f-473b-9a80-404efffad380",
   "metadata": {},
   "outputs": [],
   "source": [
    "import seaborn as sns"
   ]
  },
  {
   "cell_type": "code",
   "execution_count": 6,
   "id": "d9623d56-18ed-4fea-9fc9-8859677da312",
   "metadata": {},
   "outputs": [],
   "source": [
    "from sklearn.datasets import fetch_california_housing"
   ]
  },
  {
   "cell_type": "code",
   "execution_count": 7,
   "id": "c9c63514-931b-433e-b979-619765a378a1",
   "metadata": {},
   "outputs": [],
   "source": [
    "from sklearn.model_selection import train_test_split\n",
    "from sklearn.preprocessing import StandardScaler\n",
    "from sklearn.linear_model import LinearRegression\n",
    "from sklearn.tree import DecisionTreeRegressor\n",
    "from sklearn.ensemble import RandomForestRegressor, GradientBoostingRegressor\n",
    "from sklearn.svm import SVR\n",
    "from sklearn.metrics import mean_squared_error, mean_absolute_error, r2_score\n"
   ]
  },
  {
   "cell_type": "code",
   "execution_count": 8,
   "id": "60148a37-7d0a-4420-9eda-cf539496089b",
   "metadata": {},
   "outputs": [],
   "source": [
    "data = fetch_california_housing()\n",
    "df = pd.DataFrame(data.data, columns=data.feature_names)\n",
    "df['Target'] = data.target"
   ]
  },
  {
   "cell_type": "code",
   "execution_count": 9,
   "id": "facba016-26de-424e-94b9-df6dfad4a1ac",
   "metadata": {},
   "outputs": [
    {
     "name": "stdout",
     "output_type": "stream",
     "text": [
      "Missing values:\n",
      "MedInc        0\n",
      "HouseAge      0\n",
      "AveRooms      0\n",
      "AveBedrms     0\n",
      "Population    0\n",
      "AveOccup      0\n",
      "Latitude      0\n",
      "Longitude     0\n",
      "Target        0\n",
      "dtype: int64\n"
     ]
    }
   ],
   "source": [
    "print(\"Missing values:\")\n",
    "print(df.isnull().sum())"
   ]
  },
  {
   "cell_type": "code",
   "execution_count": 10,
   "id": "cd2d09bc-b3f8-4bbd-89cc-c935b467e8e2",
   "metadata": {},
   "outputs": [],
   "source": [
    "scaler = StandardScaler()\n",
    "X = scaler.fit_transform(df.drop(columns=['Target']))\n",
    "y = df['Target']\n"
   ]
  },
  {
   "cell_type": "code",
   "execution_count": 11,
   "id": "77fd9d22-e123-49c4-81ca-feee428e0c7e",
   "metadata": {},
   "outputs": [],
   "source": [
    "X_train, X_test, y_train, y_test = train_test_split(X, y, test_size=0.2, random_state=42)"
   ]
  },
  {
   "cell_type": "code",
   "execution_count": 12,
   "id": "9990c729-e787-4160-ad0a-147a77fdd7f2",
   "metadata": {},
   "outputs": [],
   "source": [
    "results = {}"
   ]
  },
  {
   "cell_type": "code",
   "execution_count": 13,
   "id": "f61e0b24-c697-4ebc-acf7-3ee3d060f917",
   "metadata": {},
   "outputs": [],
   "source": [
    "def evaluate_model(model, model_name):\n",
    "    model.fit(X_train, y_train)\n",
    "    y_pred = model.predict(X_test)\n",
    "    mse = mean_squared_error(y_test, y_pred)\n",
    "    mae = mean_absolute_error(y_test, y_pred)\n",
    "    r2 = r2_score(y_test, y_pred)\n",
    "    results[model_name] = {'MSE': mse, 'MAE': mae, 'R²': r2}\n",
    "    print(f\"{model_name} Results:\")\n",
    "    print(f\"MSE: {mse:.4f}, MAE: {mae:.4f}, R²: {r2:.4f}\\n\")"
   ]
  },
  {
   "cell_type": "code",
   "execution_count": 14,
   "id": "69605720-531e-4b3f-84ed-9b7e4a2befa8",
   "metadata": {},
   "outputs": [
    {
     "name": "stdout",
     "output_type": "stream",
     "text": [
      "Linear Regression Results:\n",
      "MSE: 0.5559, MAE: 0.5332, R²: 0.5758\n",
      "\n",
      "Decision Tree Regressor Results:\n",
      "MSE: 0.5033, MAE: 0.4542, R²: 0.6159\n",
      "\n",
      "Random Forest Regressor Results:\n",
      "MSE: 0.2513, MAE: 0.3259, R²: 0.8082\n",
      "\n",
      "Gradient Boosting Regressor Results:\n",
      "MSE: 0.2940, MAE: 0.3717, R²: 0.7756\n",
      "\n",
      "Support Vector Regressor Results:\n",
      "MSE: 0.3552, MAE: 0.3978, R²: 0.7289\n",
      "\n"
     ]
    }
   ],
   "source": [
    "evaluate_model(LinearRegression(), \"Linear Regression\")\n",
    "evaluate_model(DecisionTreeRegressor(), \"Decision Tree Regressor\")\n",
    "evaluate_model(RandomForestRegressor(), \"Random Forest Regressor\")\n",
    "evaluate_model(GradientBoostingRegressor(), \"Gradient Boosting Regressor\")\n",
    "evaluate_model(SVR(), \"Support Vector Regressor\")\n"
   ]
  },
  {
   "cell_type": "code",
   "execution_count": 15,
   "id": "c0cce50f-afe5-49d0-903e-d312b827a228",
   "metadata": {},
   "outputs": [],
   "source": [
    "results_df = pd.DataFrame(results).T"
   ]
  },
  {
   "cell_type": "code",
   "execution_count": 16,
   "id": "863d004a-feff-474b-8b0c-405f5470aeb3",
   "metadata": {},
   "outputs": [
    {
     "name": "stdout",
     "output_type": "stream",
     "text": [
      "\n",
      "Model Performance Comparison:\n",
      "                                  MSE       MAE        R²\n",
      "Linear Regression            0.555892  0.533200  0.575788\n",
      "Decision Tree Regressor      0.503320  0.454221  0.615906\n",
      "Random Forest Regressor      0.251316  0.325926  0.808216\n",
      "Gradient Boosting Regressor  0.293999  0.371650  0.775643\n",
      "Support Vector Regressor     0.355198  0.397763  0.728941\n"
     ]
    }
   ],
   "source": [
    "print(\"\\nModel Performance Comparison:\")\n",
    "print(results_df)"
   ]
  },
  {
   "cell_type": "code",
   "execution_count": 17,
   "id": "40f9b2ab-65b0-4c97-bcbc-d8007133fc2e",
   "metadata": {},
   "outputs": [
    {
     "name": "stdout",
     "output_type": "stream",
     "text": [
      "Best Performing Model: Random Forest Regressor\n",
      "Worst Performing Model: Linear Regression\n"
     ]
    }
   ],
   "source": [
    "best_model = results_df['R²'].idxmax()\n",
    "worst_model = results_df['R²'].idxmin()\n",
    "print(f\"Best Performing Model: {best_model}\")\n",
    "print(f\"Worst Performing Model: {worst_model}\")"
   ]
  },
  {
   "cell_type": "code",
   "execution_count": null,
   "id": "e00618ba-dc6d-45a5-9ef9-5b5fe5f9ee62",
   "metadata": {},
   "outputs": [],
   "source": []
  }
 ],
 "metadata": {
  "kernelspec": {
   "display_name": "Python 3 (ipykernel)",
   "language": "python",
   "name": "python3"
  },
  "language_info": {
   "codemirror_mode": {
    "name": "ipython",
    "version": 3
   },
   "file_extension": ".py",
   "mimetype": "text/x-python",
   "name": "python",
   "nbconvert_exporter": "python",
   "pygments_lexer": "ipython3",
   "version": "3.13.2"
  }
 },
 "nbformat": 4,
 "nbformat_minor": 5
}
